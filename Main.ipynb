{
 "cells": [
  {
   "cell_type": "code",
   "execution_count": 3,
   "metadata": {},
   "outputs": [
    {
     "name": "stdout",
     "output_type": "stream",
     "text": [
      "Average profit made in the sale: 181.4\n"
     ]
    }
   ],
   "source": [
    "\n",
    "total_profit = 0;    \n",
    "\n",
    "data = {\n",
    "    'items': ['Stud Earrings', 'Gold ring', 'Hoop Earrings','Men’s watch', 'Women’s watch', 'Anklets', 'Women’s wallet', 'Men’s wallet', 'Men’s perfume', 'Women’s perfume'],\n",
    "    'profit': [101, 219, 201, 189, 222, 102, 190, 191, 200, 199]\n",
    "}\n",
    "\n",
    "num_items = len(data['items'])\n",
    "    \n",
    "for item_profit in data['profit']:\n",
    "    total_profit += item_profit\n",
    "\n",
    "average_profit = total_profit / num_items\n",
    "print(\"Average profit made in the sale:\", average_profit)\n"
   ]
  },
  {
   "cell_type": "markdown",
   "metadata": {},
   "source": [
    "```mermaid\n",
    "graph TD;\n",
    "    Start --> Input;\n",
    "    Input --> Process;\n",
    "    Process --> Decision;\n",
    "    Decision -- Yes --> Output1;\n",
    "    Decision -- No --> Output2;\n",
    "    Output1 --> Stop;\n",
    "    Output2 --> Stop;\n",
    "```\n"
   ]
  }
 ],
 "metadata": {
  "kernelspec": {
   "display_name": "Python 3",
   "language": "python",
   "name": "python3"
  },
  "language_info": {
   "codemirror_mode": {
    "name": "ipython",
    "version": 3
   },
   "file_extension": ".py",
   "mimetype": "text/x-python",
   "name": "python",
   "nbconvert_exporter": "python",
   "pygments_lexer": "ipython3",
   "version": "3.12.1"
  }
 },
 "nbformat": 4,
 "nbformat_minor": 2
}
